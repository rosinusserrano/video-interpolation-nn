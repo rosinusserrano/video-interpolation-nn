{
  "cells": [
    {
      "cell_type": "code",
      "source": [
        "def reload_modules(*args):\n",
        "    print(\"Not on google colab, nothing to reload\")"
      ],
      "metadata": {
        "id": "vv7Mt-Gl-tcw"
      },
      "execution_count": null,
      "outputs": []
    },
    {
      "cell_type": "code",
      "execution_count": 3,
      "metadata": {
        "id": "PXg1tHCL7GH2"
      },
      "outputs": [],
      "source": [
        "\"\"\"\n",
        "THIS CELL IS ONLY NECESSARY IF EXECUTED ON GOOGLE COLAB.\n",
        "IT WILL PULL FROM THE GIT REPO AND ADD IT TO THE PATH ENV\n",
        "VAR SO THAT FUNCTIONS AND CLASSES CAN BE IMPORTED.\n",
        "\"\"\"\n",
        "\n",
        "repo_name = \"video_interpolation_nn\"\n",
        "!git clone https://github.com/rosinusserrano/{repo_name}.git\n",
        "\n",
        "import sys\n",
        "import importlib\n",
        "\n",
        "repo_path = f\"/content/{repo_name}\"\n",
        "\n",
        "if repo_path not in sys.path:\n",
        "    sys.path.append(repo_path)\n",
        "\n",
        "def reload_modules(modules: list[module]):\n",
        "    !git pull\n",
        "    for module in modules:\n",
        "        importlib.reload(module)"
      ]
    }
  ],
  "metadata": {
    "kernelspec": {
      "display_name": ".venv",
      "language": "python",
      "name": "python3"
    },
    "language_info": {
      "codemirror_mode": {
        "name": "ipython",
        "version": 3
      },
      "file_extension": ".py",
      "mimetype": "text/x-python",
      "name": "python",
      "nbconvert_exporter": "python",
      "pygments_lexer": "ipython3",
      "version": "3.11.4"
    },
    "colab": {
      "provenance": []
    }
  },
  "nbformat": 4,
  "nbformat_minor": 0
}