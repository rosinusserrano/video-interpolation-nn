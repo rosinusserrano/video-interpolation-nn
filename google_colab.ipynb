{
 "cells": [
  {
   "cell_type": "code",
   "execution_count": 3,
   "metadata": {},
   "outputs": [
    {
     "name": "stderr",
     "output_type": "stream",
     "text": [
      "Cloning into 'video-interpolation-nn'...\n"
     ]
    }
   ],
   "source": [
    "\"\"\"\n",
    "THIS CELL IS ONLY NECESSARY IF EXECUTED ON GOOGLE COLAB.\n",
    "IT WILL PULL FROM THE GIT REPO AND ADD IT TO THE PATH ENV\n",
    "VAR SO THAT FUNCTIONS AND CLASSES CAN BE IMPORTED\n",
    "\"\"\"\n",
    "\n",
    "!git clone https://github.com/rosinusserrano/video-interpolation-nn.git\n",
    "\n",
    "import sys\n",
    "import importlib\n",
    "\n",
    "repo_path = \"/content/video-interpolation-nn\"\n",
    "\n",
    "if repo_path not in sys.path:\n",
    "    sys.path.append(repo_path)"
   ]
  },
  {
   "cell_type": "code",
   "execution_count": null,
   "metadata": {},
   "outputs": [],
   "source": []
  }
 ],
 "metadata": {
  "kernelspec": {
   "display_name": ".venv",
   "language": "python",
   "name": "python3"
  },
  "language_info": {
   "codemirror_mode": {
    "name": "ipython",
    "version": 3
   },
   "file_extension": ".py",
   "mimetype": "text/x-python",
   "name": "python",
   "nbconvert_exporter": "python",
   "pygments_lexer": "ipython3",
   "version": "3.11.4"
  }
 },
 "nbformat": 4,
 "nbformat_minor": 2
}
